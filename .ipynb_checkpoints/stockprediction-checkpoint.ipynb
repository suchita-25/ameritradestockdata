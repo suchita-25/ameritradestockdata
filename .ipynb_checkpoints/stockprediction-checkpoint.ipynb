{
 "cells": [
  {
   "cell_type": "markdown",
   "metadata": {},
   "source": [
    "#    Install and Import Dependencies"
   ]
  },
  {
   "cell_type": "code",
   "execution_count": 178,
   "metadata": {},
   "outputs": [],
   "source": [
    "from fbprophet import Prophet\n",
    "import pandas as pd\n",
    "from datetime import datetime"
   ]
  },
  {
   "cell_type": "markdown",
   "metadata": {},
   "source": [
    "# Read in Data and process Dates"
   ]
  },
  {
   "cell_type": "code",
   "execution_count": 205,
   "metadata": {},
   "outputs": [],
   "source": [
    "df = pd.read_csv(\"tesla.csv\")"
   ]
  },
  {
   "cell_type": "code",
   "execution_count": 180,
   "metadata": {},
   "outputs": [
    {
     "data": {
      "text/html": [
       "<div>\n",
       "<style scoped>\n",
       "    .dataframe tbody tr th:only-of-type {\n",
       "        vertical-align: middle;\n",
       "    }\n",
       "\n",
       "    .dataframe tbody tr th {\n",
       "        vertical-align: top;\n",
       "    }\n",
       "\n",
       "    .dataframe thead th {\n",
       "        text-align: right;\n",
       "    }\n",
       "</style>\n",
       "<table border=\"1\" class=\"dataframe\">\n",
       "  <thead>\n",
       "    <tr style=\"text-align: right;\">\n",
       "      <th></th>\n",
       "      <th>timestamp</th>\n",
       "      <th>time</th>\n",
       "      <th>last_price</th>\n",
       "    </tr>\n",
       "  </thead>\n",
       "  <tbody>\n",
       "    <tr>\n",
       "      <th>0</th>\n",
       "      <td>1616778395316</td>\n",
       "      <td>2021-03-26 13:06:35.909420-04:00</td>\n",
       "      <td>618.6825</td>\n",
       "    </tr>\n",
       "    <tr>\n",
       "      <th>1</th>\n",
       "      <td>1616778395911</td>\n",
       "      <td>2021-03-26 13:06:36.310003-04:00</td>\n",
       "      <td>618.6530</td>\n",
       "    </tr>\n",
       "    <tr>\n",
       "      <th>2</th>\n",
       "      <td>1616778396941</td>\n",
       "      <td>2021-03-26 13:06:36.974965-04:00</td>\n",
       "      <td>618.6100</td>\n",
       "    </tr>\n",
       "    <tr>\n",
       "      <th>3</th>\n",
       "      <td>1616778397486</td>\n",
       "      <td>2021-03-26 13:06:37.515222-04:00</td>\n",
       "      <td>618.5800</td>\n",
       "    </tr>\n",
       "    <tr>\n",
       "      <th>4</th>\n",
       "      <td>1616778398019</td>\n",
       "      <td>2021-03-26 13:06:38.045175-04:00</td>\n",
       "      <td>618.5899</td>\n",
       "    </tr>\n",
       "  </tbody>\n",
       "</table>\n",
       "</div>"
      ],
      "text/plain": [
       "       timestamp                              time  last_price\n",
       "0  1616778395316  2021-03-26 13:06:35.909420-04:00    618.6825\n",
       "1  1616778395911  2021-03-26 13:06:36.310003-04:00    618.6530\n",
       "2  1616778396941  2021-03-26 13:06:36.974965-04:00    618.6100\n",
       "3  1616778397486  2021-03-26 13:06:37.515222-04:00    618.5800\n",
       "4  1616778398019  2021-03-26 13:06:38.045175-04:00    618.5899"
      ]
     },
     "execution_count": 180,
     "metadata": {},
     "output_type": "execute_result"
    }
   ],
   "source": [
    "df.head()"
   ]
  },
  {
   "cell_type": "code",
   "execution_count": 181,
   "metadata": {},
   "outputs": [
    {
     "data": {
      "text/html": [
       "<div>\n",
       "<style scoped>\n",
       "    .dataframe tbody tr th:only-of-type {\n",
       "        vertical-align: middle;\n",
       "    }\n",
       "\n",
       "    .dataframe tbody tr th {\n",
       "        vertical-align: top;\n",
       "    }\n",
       "\n",
       "    .dataframe thead th {\n",
       "        text-align: right;\n",
       "    }\n",
       "</style>\n",
       "<table border=\"1\" class=\"dataframe\">\n",
       "  <thead>\n",
       "    <tr style=\"text-align: right;\">\n",
       "      <th></th>\n",
       "      <th>timestamp</th>\n",
       "      <th>last_price</th>\n",
       "    </tr>\n",
       "  </thead>\n",
       "  <tbody>\n",
       "    <tr>\n",
       "      <th>count</th>\n",
       "      <td>4.351400e+04</td>\n",
       "      <td>43514.000000</td>\n",
       "    </tr>\n",
       "    <tr>\n",
       "      <th>mean</th>\n",
       "      <td>1.617075e+12</td>\n",
       "      <td>634.982105</td>\n",
       "    </tr>\n",
       "    <tr>\n",
       "      <th>std</th>\n",
       "      <td>1.622370e+08</td>\n",
       "      <td>26.560402</td>\n",
       "    </tr>\n",
       "    <tr>\n",
       "      <th>min</th>\n",
       "      <td>1.616778e+12</td>\n",
       "      <td>600.000000</td>\n",
       "    </tr>\n",
       "    <tr>\n",
       "      <th>25%</th>\n",
       "      <td>1.617037e+12</td>\n",
       "      <td>608.860000</td>\n",
       "    </tr>\n",
       "    <tr>\n",
       "      <th>50%</th>\n",
       "      <td>1.617196e+12</td>\n",
       "      <td>644.489950</td>\n",
       "    </tr>\n",
       "    <tr>\n",
       "      <th>75%</th>\n",
       "      <td>1.617210e+12</td>\n",
       "      <td>662.120000</td>\n",
       "    </tr>\n",
       "    <tr>\n",
       "      <th>max</th>\n",
       "      <td>1.617222e+12</td>\n",
       "      <td>672.000000</td>\n",
       "    </tr>\n",
       "  </tbody>\n",
       "</table>\n",
       "</div>"
      ],
      "text/plain": [
       "          timestamp    last_price\n",
       "count  4.351400e+04  43514.000000\n",
       "mean   1.617075e+12    634.982105\n",
       "std    1.622370e+08     26.560402\n",
       "min    1.616778e+12    600.000000\n",
       "25%    1.617037e+12    608.860000\n",
       "50%    1.617196e+12    644.489950\n",
       "75%    1.617210e+12    662.120000\n",
       "max    1.617222e+12    672.000000"
      ]
     },
     "execution_count": 181,
     "metadata": {},
     "output_type": "execute_result"
    }
   ],
   "source": [
    "df.describe()"
   ]
  },
  {
   "cell_type": "code",
   "execution_count": 182,
   "metadata": {},
   "outputs": [
    {
     "data": {
      "text/plain": [
       "timestamp       int64\n",
       "time           object\n",
       "last_price    float64\n",
       "dtype: object"
      ]
     },
     "execution_count": 182,
     "metadata": {},
     "output_type": "execute_result"
    }
   ],
   "source": [
    "df.dtypes"
   ]
  },
  {
   "cell_type": "code",
   "execution_count": 183,
   "metadata": {},
   "outputs": [],
   "source": [
    "#COnverting to datetime so that I can do the group by column\n",
    "df['time'] = pd.to_datetime(df['time'], utc=True)"
   ]
  },
  {
   "cell_type": "code",
   "execution_count": 184,
   "metadata": {},
   "outputs": [],
   "source": [
    "df['time'] = df['time'].dt.tz_convert(None)"
   ]
  },
  {
   "cell_type": "code",
   "execution_count": 185,
   "metadata": {},
   "outputs": [
    {
     "data": {
      "text/html": [
       "<div>\n",
       "<style scoped>\n",
       "    .dataframe tbody tr th:only-of-type {\n",
       "        vertical-align: middle;\n",
       "    }\n",
       "\n",
       "    .dataframe tbody tr th {\n",
       "        vertical-align: top;\n",
       "    }\n",
       "\n",
       "    .dataframe thead th {\n",
       "        text-align: right;\n",
       "    }\n",
       "</style>\n",
       "<table border=\"1\" class=\"dataframe\">\n",
       "  <thead>\n",
       "    <tr style=\"text-align: right;\">\n",
       "      <th></th>\n",
       "      <th>timestamp</th>\n",
       "      <th>time</th>\n",
       "      <th>last_price</th>\n",
       "    </tr>\n",
       "  </thead>\n",
       "  <tbody>\n",
       "    <tr>\n",
       "      <th>0</th>\n",
       "      <td>1616778395316</td>\n",
       "      <td>2021-03-26 17:06:35.909420</td>\n",
       "      <td>618.6825</td>\n",
       "    </tr>\n",
       "    <tr>\n",
       "      <th>1</th>\n",
       "      <td>1616778395911</td>\n",
       "      <td>2021-03-26 17:06:36.310003</td>\n",
       "      <td>618.6530</td>\n",
       "    </tr>\n",
       "    <tr>\n",
       "      <th>2</th>\n",
       "      <td>1616778396941</td>\n",
       "      <td>2021-03-26 17:06:36.974965</td>\n",
       "      <td>618.6100</td>\n",
       "    </tr>\n",
       "    <tr>\n",
       "      <th>3</th>\n",
       "      <td>1616778397486</td>\n",
       "      <td>2021-03-26 17:06:37.515222</td>\n",
       "      <td>618.5800</td>\n",
       "    </tr>\n",
       "    <tr>\n",
       "      <th>4</th>\n",
       "      <td>1616778398019</td>\n",
       "      <td>2021-03-26 17:06:38.045175</td>\n",
       "      <td>618.5899</td>\n",
       "    </tr>\n",
       "  </tbody>\n",
       "</table>\n",
       "</div>"
      ],
      "text/plain": [
       "       timestamp                       time  last_price\n",
       "0  1616778395316 2021-03-26 17:06:35.909420    618.6825\n",
       "1  1616778395911 2021-03-26 17:06:36.310003    618.6530\n",
       "2  1616778396941 2021-03-26 17:06:36.974965    618.6100\n",
       "3  1616778397486 2021-03-26 17:06:37.515222    618.5800\n",
       "4  1616778398019 2021-03-26 17:06:38.045175    618.5899"
      ]
     },
     "execution_count": 185,
     "metadata": {},
     "output_type": "execute_result"
    }
   ],
   "source": [
    "df.head()"
   ]
  },
  {
   "cell_type": "code",
   "execution_count": 186,
   "metadata": {},
   "outputs": [
    {
     "data": {
      "text/html": [
       "<div>\n",
       "<style scoped>\n",
       "    .dataframe tbody tr th:only-of-type {\n",
       "        vertical-align: middle;\n",
       "    }\n",
       "\n",
       "    .dataframe tbody tr th {\n",
       "        vertical-align: top;\n",
       "    }\n",
       "\n",
       "    .dataframe thead th {\n",
       "        text-align: right;\n",
       "    }\n",
       "</style>\n",
       "<table border=\"1\" class=\"dataframe\">\n",
       "  <thead>\n",
       "    <tr style=\"text-align: right;\">\n",
       "      <th></th>\n",
       "      <th>timestamp</th>\n",
       "      <th>time</th>\n",
       "      <th>last_price</th>\n",
       "    </tr>\n",
       "  </thead>\n",
       "  <tbody>\n",
       "    <tr>\n",
       "      <th>43509</th>\n",
       "      <td>1617221566764</td>\n",
       "      <td>2021-03-31 20:12:51.174604</td>\n",
       "      <td>669.29</td>\n",
       "    </tr>\n",
       "    <tr>\n",
       "      <th>43510</th>\n",
       "      <td>1617221567875</td>\n",
       "      <td>2021-03-31 20:12:53.559950</td>\n",
       "      <td>669.21</td>\n",
       "    </tr>\n",
       "    <tr>\n",
       "      <th>43511</th>\n",
       "      <td>1617221566211</td>\n",
       "      <td>2021-03-31 20:12:48.145578</td>\n",
       "      <td>669.28</td>\n",
       "    </tr>\n",
       "    <tr>\n",
       "      <th>43512</th>\n",
       "      <td>1617221567320</td>\n",
       "      <td>2021-03-31 20:12:52.229347</td>\n",
       "      <td>669.37</td>\n",
       "    </tr>\n",
       "    <tr>\n",
       "      <th>43513</th>\n",
       "      <td>1617221568411</td>\n",
       "      <td>2021-03-31 20:12:54.381998</td>\n",
       "      <td>669.29</td>\n",
       "    </tr>\n",
       "  </tbody>\n",
       "</table>\n",
       "</div>"
      ],
      "text/plain": [
       "           timestamp                       time  last_price\n",
       "43509  1617221566764 2021-03-31 20:12:51.174604      669.29\n",
       "43510  1617221567875 2021-03-31 20:12:53.559950      669.21\n",
       "43511  1617221566211 2021-03-31 20:12:48.145578      669.28\n",
       "43512  1617221567320 2021-03-31 20:12:52.229347      669.37\n",
       "43513  1617221568411 2021-03-31 20:12:54.381998      669.29"
      ]
     },
     "execution_count": 186,
     "metadata": {},
     "output_type": "execute_result"
    }
   ],
   "source": [
    "df.tail()"
   ]
  },
  {
   "cell_type": "code",
   "execution_count": 187,
   "metadata": {},
   "outputs": [],
   "source": [
    "df.drop('timestamp',axis=1,inplace=True)"
   ]
  },
  {
   "cell_type": "code",
   "execution_count": 188,
   "metadata": {},
   "outputs": [
    {
     "data": {
      "text/html": [
       "<div>\n",
       "<style scoped>\n",
       "    .dataframe tbody tr th:only-of-type {\n",
       "        vertical-align: middle;\n",
       "    }\n",
       "\n",
       "    .dataframe tbody tr th {\n",
       "        vertical-align: top;\n",
       "    }\n",
       "\n",
       "    .dataframe thead th {\n",
       "        text-align: right;\n",
       "    }\n",
       "</style>\n",
       "<table border=\"1\" class=\"dataframe\">\n",
       "  <thead>\n",
       "    <tr style=\"text-align: right;\">\n",
       "      <th></th>\n",
       "      <th>time</th>\n",
       "      <th>last_price</th>\n",
       "    </tr>\n",
       "  </thead>\n",
       "  <tbody>\n",
       "    <tr>\n",
       "      <th>0</th>\n",
       "      <td>2021-03-26 17:06:35.909420</td>\n",
       "      <td>618.6825</td>\n",
       "    </tr>\n",
       "    <tr>\n",
       "      <th>1</th>\n",
       "      <td>2021-03-26 17:06:36.310003</td>\n",
       "      <td>618.6530</td>\n",
       "    </tr>\n",
       "    <tr>\n",
       "      <th>2</th>\n",
       "      <td>2021-03-26 17:06:36.974965</td>\n",
       "      <td>618.6100</td>\n",
       "    </tr>\n",
       "    <tr>\n",
       "      <th>3</th>\n",
       "      <td>2021-03-26 17:06:37.515222</td>\n",
       "      <td>618.5800</td>\n",
       "    </tr>\n",
       "    <tr>\n",
       "      <th>4</th>\n",
       "      <td>2021-03-26 17:06:38.045175</td>\n",
       "      <td>618.5899</td>\n",
       "    </tr>\n",
       "  </tbody>\n",
       "</table>\n",
       "</div>"
      ],
      "text/plain": [
       "                        time  last_price\n",
       "0 2021-03-26 17:06:35.909420    618.6825\n",
       "1 2021-03-26 17:06:36.310003    618.6530\n",
       "2 2021-03-26 17:06:36.974965    618.6100\n",
       "3 2021-03-26 17:06:37.515222    618.5800\n",
       "4 2021-03-26 17:06:38.045175    618.5899"
      ]
     },
     "execution_count": 188,
     "metadata": {},
     "output_type": "execute_result"
    }
   ],
   "source": [
    "df.head()"
   ]
  },
  {
   "cell_type": "code",
   "execution_count": 189,
   "metadata": {},
   "outputs": [],
   "source": [
    "df.columns=['ds', 'y']"
   ]
  },
  {
   "cell_type": "code",
   "execution_count": 190,
   "metadata": {},
   "outputs": [
    {
     "data": {
      "text/html": [
       "<div>\n",
       "<style scoped>\n",
       "    .dataframe tbody tr th:only-of-type {\n",
       "        vertical-align: middle;\n",
       "    }\n",
       "\n",
       "    .dataframe tbody tr th {\n",
       "        vertical-align: top;\n",
       "    }\n",
       "\n",
       "    .dataframe thead th {\n",
       "        text-align: right;\n",
       "    }\n",
       "</style>\n",
       "<table border=\"1\" class=\"dataframe\">\n",
       "  <thead>\n",
       "    <tr style=\"text-align: right;\">\n",
       "      <th></th>\n",
       "      <th>ds</th>\n",
       "      <th>y</th>\n",
       "    </tr>\n",
       "  </thead>\n",
       "  <tbody>\n",
       "    <tr>\n",
       "      <th>0</th>\n",
       "      <td>2021-03-26 17:06:35.909420</td>\n",
       "      <td>618.6825</td>\n",
       "    </tr>\n",
       "    <tr>\n",
       "      <th>1</th>\n",
       "      <td>2021-03-26 17:06:36.310003</td>\n",
       "      <td>618.6530</td>\n",
       "    </tr>\n",
       "    <tr>\n",
       "      <th>2</th>\n",
       "      <td>2021-03-26 17:06:36.974965</td>\n",
       "      <td>618.6100</td>\n",
       "    </tr>\n",
       "    <tr>\n",
       "      <th>3</th>\n",
       "      <td>2021-03-26 17:06:37.515222</td>\n",
       "      <td>618.5800</td>\n",
       "    </tr>\n",
       "    <tr>\n",
       "      <th>4</th>\n",
       "      <td>2021-03-26 17:06:38.045175</td>\n",
       "      <td>618.5899</td>\n",
       "    </tr>\n",
       "  </tbody>\n",
       "</table>\n",
       "</div>"
      ],
      "text/plain": [
       "                          ds         y\n",
       "0 2021-03-26 17:06:35.909420  618.6825\n",
       "1 2021-03-26 17:06:36.310003  618.6530\n",
       "2 2021-03-26 17:06:36.974965  618.6100\n",
       "3 2021-03-26 17:06:37.515222  618.5800\n",
       "4 2021-03-26 17:06:38.045175  618.5899"
      ]
     },
     "execution_count": 190,
     "metadata": {},
     "output_type": "execute_result"
    }
   ],
   "source": [
    "df.head()"
   ]
  },
  {
   "cell_type": "code",
   "execution_count": 191,
   "metadata": {},
   "outputs": [
    {
     "data": {
      "text/plain": [
       "(43514, 2)"
      ]
     },
     "execution_count": 191,
     "metadata": {},
     "output_type": "execute_result"
    }
   ],
   "source": [
    "df.shape"
   ]
  },
  {
   "cell_type": "code",
   "execution_count": 192,
   "metadata": {},
   "outputs": [],
   "source": [
    "import matplotlib.pyplot as plt"
   ]
  },
  {
   "cell_type": "code",
   "execution_count": 193,
   "metadata": {},
   "outputs": [
    {
     "data": {
      "text/plain": [
       "[<matplotlib.lines.Line2D at 0x7f16e64b9310>]"
      ]
     },
     "execution_count": 193,
     "metadata": {},
     "output_type": "execute_result"
    },
    {
     "data": {
      "image/png": "[encoded data removed]",
      "text/plain": [
       "<Figure size 1152x432 with 1 Axes>"
      ]
     },
     "metadata": {
      "needs_background": "light"
     },
     "output_type": "display_data"
    }
   ],
   "source": [
    "plt.figure(figsize=(16,6))\n",
    "plt.plot(df.set_index(['ds']))"
   ]
  },
  {
   "cell_type": "markdown",
   "metadata": {},
   "source": [
    "#    Train Model"
   ]
  },
  {
   "cell_type": "code",
   "execution_count": 194,
   "metadata": {},
   "outputs": [
    {
     "name": "stderr",
     "output_type": "stream",
     "text": [
      "INFO:fbprophet:Disabling yearly seasonality. Run prophet with yearly_seasonality=True to override this.\n",
      "INFO:fbprophet:Disabling weekly seasonality. Run prophet with weekly_seasonality=True to override this.\n"
     ]
    }
   ],
   "source": [
    "m = Prophet(changepoint_prior_scale=0.02)\n",
    "model=m.fit(df)"
   ]
  },
  {
   "cell_type": "markdown",
   "metadata": {},
   "source": [
    "# Forecast Away"
   ]
  },
  {
   "cell_type": "code",
   "execution_count": 195,
   "metadata": {},
   "outputs": [],
   "source": [
    "future = m.make_future_dataframe(periods=200, freq='5min')"
   ]
  },
  {
   "cell_type": "code",
   "execution_count": 196,
   "metadata": {},
   "outputs": [
    {
     "data": {
      "text/html": [
       "<div>\n",
       "<style scoped>\n",
       "    .dataframe tbody tr th:only-of-type {\n",
       "        vertical-align: middle;\n",
       "    }\n",
       "\n",
       "    .dataframe tbody tr th {\n",
       "        vertical-align: top;\n",
       "    }\n",
       "\n",
       "    .dataframe thead th {\n",
       "        text-align: right;\n",
       "    }\n",
       "</style>\n",
       "<table border=\"1\" class=\"dataframe\">\n",
       "  <thead>\n",
       "    <tr style=\"text-align: right;\">\n",
       "      <th></th>\n",
       "      <th>ds</th>\n",
       "    </tr>\n",
       "  </thead>\n",
       "  <tbody>\n",
       "    <tr>\n",
       "      <th>0</th>\n",
       "      <td>2021-03-26 17:06:35.909420</td>\n",
       "    </tr>\n",
       "    <tr>\n",
       "      <th>1</th>\n",
       "      <td>2021-03-26 17:06:36.310003</td>\n",
       "    </tr>\n",
       "    <tr>\n",
       "      <th>2</th>\n",
       "      <td>2021-03-26 17:06:36.974965</td>\n",
       "    </tr>\n",
       "    <tr>\n",
       "      <th>3</th>\n",
       "      <td>2021-03-26 17:06:37.515222</td>\n",
       "    </tr>\n",
       "    <tr>\n",
       "      <th>4</th>\n",
       "      <td>2021-03-26 17:06:38.045175</td>\n",
       "    </tr>\n",
       "  </tbody>\n",
       "</table>\n",
       "</div>"
      ],
      "text/plain": [
       "                          ds\n",
       "0 2021-03-26 17:06:35.909420\n",
       "1 2021-03-26 17:06:36.310003\n",
       "2 2021-03-26 17:06:36.974965\n",
       "3 2021-03-26 17:06:37.515222\n",
       "4 2021-03-26 17:06:38.045175"
      ]
     },
     "execution_count": 196,
     "metadata": {},
     "output_type": "execute_result"
    }
   ],
   "source": [
    "future.head()"
   ]
  },
  {
   "cell_type": "code",
   "execution_count": 197,
   "metadata": {},
   "outputs": [
    {
     "data": {
      "text/html": [
       "<div>\n",
       "<style scoped>\n",
       "    .dataframe tbody tr th:only-of-type {\n",
       "        vertical-align: middle;\n",
       "    }\n",
       "\n",
       "    .dataframe tbody tr th {\n",
       "        vertical-align: top;\n",
       "    }\n",
       "\n",
       "    .dataframe thead th {\n",
       "        text-align: right;\n",
       "    }\n",
       "</style>\n",
       "<table border=\"1\" class=\"dataframe\">\n",
       "  <thead>\n",
       "    <tr style=\"text-align: right;\">\n",
       "      <th></th>\n",
       "      <th>ds</th>\n",
       "    </tr>\n",
       "  </thead>\n",
       "  <tbody>\n",
       "    <tr>\n",
       "      <th>43709</th>\n",
       "      <td>2021-04-01 12:32:54.381998</td>\n",
       "    </tr>\n",
       "    <tr>\n",
       "      <th>43710</th>\n",
       "      <td>2021-04-01 12:37:54.381998</td>\n",
       "    </tr>\n",
       "    <tr>\n",
       "      <th>43711</th>\n",
       "      <td>2021-04-01 12:42:54.381998</td>\n",
       "    </tr>\n",
       "    <tr>\n",
       "      <th>43712</th>\n",
       "      <td>2021-04-01 12:47:54.381998</td>\n",
       "    </tr>\n",
       "    <tr>\n",
       "      <th>43713</th>\n",
       "      <td>2021-04-01 12:52:54.381998</td>\n",
       "    </tr>\n",
       "  </tbody>\n",
       "</table>\n",
       "</div>"
      ],
      "text/plain": [
       "                              ds\n",
       "43709 2021-04-01 12:32:54.381998\n",
       "43710 2021-04-01 12:37:54.381998\n",
       "43711 2021-04-01 12:42:54.381998\n",
       "43712 2021-04-01 12:47:54.381998\n",
       "43713 2021-04-01 12:52:54.381998"
      ]
     },
     "execution_count": 197,
     "metadata": {},
     "output_type": "execute_result"
    }
   ],
   "source": [
    "future.tail()"
   ]
  },
  {
   "cell_type": "code",
   "execution_count": 198,
   "metadata": {},
   "outputs": [],
   "source": [
    "fcst = m.predict(future)"
   ]
  },
  {
   "cell_type": "code",
   "execution_count": 199,
   "metadata": {},
   "outputs": [
    {
     "data": {
      "text/html": [
       "<div>\n",
       "<style scoped>\n",
       "    .dataframe tbody tr th:only-of-type {\n",
       "        vertical-align: middle;\n",
       "    }\n",
       "\n",
       "    .dataframe tbody tr th {\n",
       "        vertical-align: top;\n",
       "    }\n",
       "\n",
       "    .dataframe thead th {\n",
       "        text-align: right;\n",
       "    }\n",
       "</style>\n",
       "<table border=\"1\" class=\"dataframe\">\n",
       "  <thead>\n",
       "    <tr style=\"text-align: right;\">\n",
       "      <th></th>\n",
       "      <th>ds</th>\n",
       "      <th>trend</th>\n",
       "      <th>yhat_lower</th>\n",
       "      <th>yhat_upper</th>\n",
       "      <th>trend_lower</th>\n",
       "      <th>trend_upper</th>\n",
       "      <th>additive_terms</th>\n",
       "      <th>additive_terms_lower</th>\n",
       "      <th>additive_terms_upper</th>\n",
       "      <th>daily</th>\n",
       "      <th>daily_lower</th>\n",
       "      <th>daily_upper</th>\n",
       "      <th>multiplicative_terms</th>\n",
       "      <th>multiplicative_terms_lower</th>\n",
       "      <th>multiplicative_terms_upper</th>\n",
       "      <th>yhat</th>\n",
       "    </tr>\n",
       "  </thead>\n",
       "  <tbody>\n",
       "    <tr>\n",
       "      <th>0</th>\n",
       "      <td>2021-03-26 17:06:35.909420</td>\n",
       "      <td>326.746483</td>\n",
       "      <td>616.351328</td>\n",
       "      <td>620.361129</td>\n",
       "      <td>326.746483</td>\n",
       "      <td>326.746483</td>\n",
       "      <td>291.565949</td>\n",
       "      <td>291.565949</td>\n",
       "      <td>291.565949</td>\n",
       "      <td>291.565949</td>\n",
       "      <td>291.565949</td>\n",
       "      <td>291.565949</td>\n",
       "      <td>0.0</td>\n",
       "      <td>0.0</td>\n",
       "      <td>0.0</td>\n",
       "      <td>618.312432</td>\n",
       "    </tr>\n",
       "    <tr>\n",
       "      <th>1</th>\n",
       "      <td>2021-03-26 17:06:36.310003</td>\n",
       "      <td>326.746242</td>\n",
       "      <td>616.438388</td>\n",
       "      <td>620.090460</td>\n",
       "      <td>326.746242</td>\n",
       "      <td>326.746242</td>\n",
       "      <td>291.565470</td>\n",
       "      <td>291.565470</td>\n",
       "      <td>291.565470</td>\n",
       "      <td>291.565470</td>\n",
       "      <td>291.565470</td>\n",
       "      <td>291.565470</td>\n",
       "      <td>0.0</td>\n",
       "      <td>0.0</td>\n",
       "      <td>0.0</td>\n",
       "      <td>618.311711</td>\n",
       "    </tr>\n",
       "    <tr>\n",
       "      <th>2</th>\n",
       "      <td>2021-03-26 17:06:36.974965</td>\n",
       "      <td>326.745840</td>\n",
       "      <td>616.415515</td>\n",
       "      <td>620.244808</td>\n",
       "      <td>326.745840</td>\n",
       "      <td>326.745840</td>\n",
       "      <td>291.564675</td>\n",
       "      <td>291.564675</td>\n",
       "      <td>291.564675</td>\n",
       "      <td>291.564675</td>\n",
       "      <td>291.564675</td>\n",
       "      <td>291.564675</td>\n",
       "      <td>0.0</td>\n",
       "      <td>0.0</td>\n",
       "      <td>0.0</td>\n",
       "      <td>618.310515</td>\n",
       "    </tr>\n",
       "    <tr>\n",
       "      <th>3</th>\n",
       "      <td>2021-03-26 17:06:37.515222</td>\n",
       "      <td>326.745514</td>\n",
       "      <td>616.361302</td>\n",
       "      <td>620.279098</td>\n",
       "      <td>326.745514</td>\n",
       "      <td>326.745514</td>\n",
       "      <td>291.564029</td>\n",
       "      <td>291.564029</td>\n",
       "      <td>291.564029</td>\n",
       "      <td>291.564029</td>\n",
       "      <td>291.564029</td>\n",
       "      <td>291.564029</td>\n",
       "      <td>0.0</td>\n",
       "      <td>0.0</td>\n",
       "      <td>0.0</td>\n",
       "      <td>618.309543</td>\n",
       "    </tr>\n",
       "    <tr>\n",
       "      <th>4</th>\n",
       "      <td>2021-03-26 17:06:38.045175</td>\n",
       "      <td>326.745194</td>\n",
       "      <td>616.513285</td>\n",
       "      <td>620.304846</td>\n",
       "      <td>326.745194</td>\n",
       "      <td>326.745194</td>\n",
       "      <td>291.563395</td>\n",
       "      <td>291.563395</td>\n",
       "      <td>291.563395</td>\n",
       "      <td>291.563395</td>\n",
       "      <td>291.563395</td>\n",
       "      <td>291.563395</td>\n",
       "      <td>0.0</td>\n",
       "      <td>0.0</td>\n",
       "      <td>0.0</td>\n",
       "      <td>618.308589</td>\n",
       "    </tr>\n",
       "  </tbody>\n",
       "</table>\n",
       "</div>"
      ],
      "text/plain": [
       "                          ds       trend  yhat_lower  yhat_upper  trend_lower  \\\n",
       "0 2021-03-26 17:06:35.909420  326.746483  616.351328  620.361129   326.746483   \n",
       "1 2021-03-26 17:06:36.310003  326.746242  616.438388  620.090460   326.746242   \n",
       "2 2021-03-26 17:06:36.974965  326.745840  616.415515  620.244808   326.745840   \n",
       "3 2021-03-26 17:06:37.515222  326.745514  616.361302  620.279098   326.745514   \n",
       "4 2021-03-26 17:06:38.045175  326.745194  616.513285  620.304846   326.745194   \n",
       "\n",
       "   trend_upper  additive_terms  additive_terms_lower  additive_terms_upper  \\\n",
       "0   326.746483      291.565949            291.565949            291.565949   \n",
       "1   326.746242      291.565470            291.565470            291.565470   \n",
       "2   326.745840      291.564675            291.564675            291.564675   \n",
       "3   326.745514      291.564029            291.564029            291.564029   \n",
       "4   326.745194      291.563395            291.563395            291.563395   \n",
       "\n",
       "        daily  daily_lower  daily_upper  multiplicative_terms  \\\n",
       "0  291.565949   291.565949   291.565949                   0.0   \n",
       "1  291.565470   291.565470   291.565470                   0.0   \n",
       "2  291.564675   291.564675   291.564675                   0.0   \n",
       "3  291.564029   291.564029   291.564029                   0.0   \n",
       "4  291.563395   291.563395   291.563395                   0.0   \n",
       "\n",
       "   multiplicative_terms_lower  multiplicative_terms_upper        yhat  \n",
       "0                         0.0                         0.0  618.312432  \n",
       "1                         0.0                         0.0  618.311711  \n",
       "2                         0.0                         0.0  618.310515  \n",
       "3                         0.0                         0.0  618.309543  \n",
       "4                         0.0                         0.0  618.308589  "
      ]
     },
     "execution_count": 199,
     "metadata": {},
     "output_type": "execute_result"
    }
   ],
   "source": [
    "fcst.head()"
   ]
  },
  {
   "cell_type": "code",
   "execution_count": 200,
   "metadata": {},
   "outputs": [
    {
     "data": {
      "text/html": [
       "<div>\n",
       "<style scoped>\n",
       "    .dataframe tbody tr th:only-of-type {\n",
       "        vertical-align: middle;\n",
       "    }\n",
       "\n",
       "    .dataframe tbody tr th {\n",
       "        vertical-align: top;\n",
       "    }\n",
       "\n",
       "    .dataframe thead th {\n",
       "        text-align: right;\n",
       "    }\n",
       "</style>\n",
       "<table border=\"1\" class=\"dataframe\">\n",
       "  <thead>\n",
       "    <tr style=\"text-align: right;\">\n",
       "      <th></th>\n",
       "      <th>ds</th>\n",
       "      <th>yhat</th>\n",
       "      <th>yhat_lower</th>\n",
       "      <th>yhat_upper</th>\n",
       "    </tr>\n",
       "  </thead>\n",
       "  <tbody>\n",
       "    <tr>\n",
       "      <th>43709</th>\n",
       "      <td>2021-04-01 12:32:54.381998</td>\n",
       "      <td>652.398936</td>\n",
       "      <td>505.297888</td>\n",
       "      <td>783.376048</td>\n",
       "    </tr>\n",
       "    <tr>\n",
       "      <th>43710</th>\n",
       "      <td>2021-04-01 12:37:54.381998</td>\n",
       "      <td>651.933080</td>\n",
       "      <td>505.280670</td>\n",
       "      <td>781.318682</td>\n",
       "    </tr>\n",
       "    <tr>\n",
       "      <th>43711</th>\n",
       "      <td>2021-04-01 12:42:54.381998</td>\n",
       "      <td>651.465028</td>\n",
       "      <td>503.309724</td>\n",
       "      <td>784.202030</td>\n",
       "    </tr>\n",
       "    <tr>\n",
       "      <th>43712</th>\n",
       "      <td>2021-04-01 12:47:54.381998</td>\n",
       "      <td>650.998895</td>\n",
       "      <td>501.120287</td>\n",
       "      <td>784.591729</td>\n",
       "    </tr>\n",
       "    <tr>\n",
       "      <th>43713</th>\n",
       "      <td>2021-04-01 12:52:54.381998</td>\n",
       "      <td>650.538849</td>\n",
       "      <td>499.341645</td>\n",
       "      <td>787.734961</td>\n",
       "    </tr>\n",
       "  </tbody>\n",
       "</table>\n",
       "</div>"
      ],
      "text/plain": [
       "                              ds        yhat  yhat_lower  yhat_upper\n",
       "43709 2021-04-01 12:32:54.381998  652.398936  505.297888  783.376048\n",
       "43710 2021-04-01 12:37:54.381998  651.933080  505.280670  781.318682\n",
       "43711 2021-04-01 12:42:54.381998  651.465028  503.309724  784.202030\n",
       "43712 2021-04-01 12:47:54.381998  650.998895  501.120287  784.591729\n",
       "43713 2021-04-01 12:52:54.381998  650.538849  499.341645  787.734961"
      ]
     },
     "execution_count": 200,
     "metadata": {},
     "output_type": "execute_result"
    }
   ],
   "source": [
    "fcst[['ds', 'yhat', 'yhat_lower', 'yhat_upper']].tail()"
   ]
  },
  {
   "cell_type": "code",
   "execution_count": 202,
   "metadata": {},
   "outputs": [
    {
     "data": {
      "image/png": "[encoded data removed]",
      "text/plain": [
       "<Figure size 720x432 with 1 Axes>"
      ]
     },
     "metadata": {},
     "output_type": "display_data"
    }
   ],
   "source": [
    "from prophet.plot import add_changepoints_to_plot\n",
    "fig = m.plot(fcst)\n",
    "# a = add_changepoints_to_plot(fig.gca(), m, fcst)"
   ]
  },
  {
   "cell_type": "code",
   "execution_count": 203,
   "metadata": {},
   "outputs": [
    {
     "data": {
      "image/png": "[encoded data removed]",
      "text/plain": [
       "<Figure size 720x432 with 1 Axes>"
      ]
     },
     "metadata": {},
     "output_type": "display_data"
    }
   ],
   "source": [
    "fig = m.plot(fcst)"
   ]
  },
  {
   "cell_type": "code",
   "execution_count": 204,
   "metadata": {},
   "outputs": [
    {
     "data": {
      "image/png": "[encoded data removed]",
      "text/plain": [
       "<Figure size 648x432 with 2 Axes>"
      ]
     },
     "metadata": {},
     "output_type": "display_data"
    }
   ],
   "source": [
    "fig = m.plot_components(fcst)"
   ]
  },
  {
   "cell_type": "code",
   "execution_count": null,
   "metadata": {},
   "outputs": [],
   "source": []
  }
 ],
 "metadata": {
  "kernelspec": {
   "display_name": "Python 3",
   "language": "python",
   "name": "python3"
  },
  "language_info": {
   "codemirror_mode": {
    "name": "ipython",
    "version": 3
   },
   "file_extension": ".py",
   "mimetype": "text/x-python",
   "name": "python",
   "nbconvert_exporter": "python",
   "pygments_lexer": "ipython3",
   "version": "3.8.5"
  }
 },
 "nbformat": 4,
 "nbformat_minor": 4
}
