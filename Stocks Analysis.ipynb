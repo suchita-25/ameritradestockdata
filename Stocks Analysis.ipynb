{
 "cells": [
  {
   "cell_type": "markdown",
   "metadata": {},
   "source": [
    "## Import Libraries"
   ]
  },
  {
   "cell_type": "code",
   "execution_count": 73,
   "metadata": {},
   "outputs": [],
   "source": [
    "import matplotlib.pyplot as plt\n",
    "import seaborn as sns\n",
    "import numpy as np\n",
    "import psycopg2\n",
    "import config\n",
    "import pandas.io.sql as psql\n",
    "import pandas as pd"
   ]
  },
  {
   "cell_type": "markdown",
   "metadata": {},
   "source": [
    "## Database Connection"
   ]
  },
  {
   "cell_type": "code",
   "execution_count": 2,
   "metadata": {},
   "outputs": [],
   "source": [
    "CONN = psycopg2.connect(host=config.DB_HOST,\n",
    "                        database=config.DB_NAME,\n",
    "                        user=config.DB_USER,\n",
    "                        password=config.DB_PASS)"
   ]
  },
  {
   "cell_type": "code",
   "execution_count": 4,
   "metadata": {},
   "outputs": [
    {
     "name": "stdout",
     "output_type": "stream",
     "text": [
      "Database opened successfully\n"
     ]
    }
   ],
   "source": [
    "print(\"Database opened successfully\")\n",
    "CURSOR = CONN.cursor()"
   ]
  },
  {
   "cell_type": "markdown",
   "metadata": {},
   "source": [
    "## TOP 10 stocks traded on April 5th"
   ]
  },
  {
   "cell_type": "code",
   "execution_count": 9,
   "metadata": {},
   "outputs": [],
   "source": [
    "SQL1 = \"select key, count(*) \\\n",
    "        from stocksdata \\\n",
    "        where date(time)='2021-03-05' \\\n",
    "        group by key order by count(*) DESC limit 10;\""
   ]
  },
  {
   "cell_type": "code",
   "execution_count": 10,
   "metadata": {},
   "outputs": [],
   "source": [
    "CURSOR.execute(SQL1)\n",
    "result = CURSOR.fetchall()"
   ]
  },
  {
   "cell_type": "code",
   "execution_count": 13,
   "metadata": {},
   "outputs": [
    {
     "name": "stdout",
     "output_type": "stream",
     "text": [
      "[('MSFT', 30157), ('INTC', 29731), ('MU', 29056), ('NVDA', 28956), ('MRVL', 28198), ('JD', 26663), ('MDLZ', 26258), ('OPEN', 25149), ('NNDM', 24678), ('KHC', 24616)]\n"
     ]
    }
   ],
   "source": [
    "print(result)"
   ]
  },
  {
   "cell_type": "markdown",
   "metadata": {},
   "source": [
    "## CALCULATING CORRELATION"
   ]
  },
  {
   "cell_type": "code",
   "execution_count": 27,
   "metadata": {},
   "outputs": [],
   "source": [
    "SQL2 = \"select key,last_price, time \\\n",
    "        from stocksdata \\\n",
    "        where date(time)='2021-04-03' and key in ('GOOG') \\\n",
    "        and last_price is NOT NULL\"\n",
    "\n",
    "SQL3 = \"select key,last_price, time \\\n",
    "        from stocksdata \\\n",
    "        where date(time)='2021-04-03' and key in ('MSFT') \\\n",
    "        and last_price is NOT NULL\""
   ]
  },
  {
   "cell_type": "code",
   "execution_count": 82,
   "metadata": {},
   "outputs": [],
   "source": [
    "df1 = psql.read_sql(SQL2, CONN)"
   ]
  },
  {
   "cell_type": "code",
   "execution_count": 83,
   "metadata": {},
   "outputs": [],
   "source": [
    "df2 = psql.read_sql(SQL3, CONN)"
   ]
  },
  {
   "cell_type": "code",
   "execution_count": 40,
   "metadata": {},
   "outputs": [
    {
     "name": "stdout",
     "output_type": "stream",
     "text": [
      "-0.2986393099711733\n"
     ]
    }
   ],
   "source": [
    "col1=df1['last_price']\n",
    "col2=df2['last_price']\n",
    "correlation = col1.corr(col2)\n",
    "print(correlation)"
   ]
  },
  {
   "cell_type": "markdown",
   "metadata": {},
   "source": [
    "## AAPL Closing Prices"
   ]
  },
  {
   "cell_type": "code",
   "execution_count": 48,
   "metadata": {},
   "outputs": [],
   "source": [
    "aapl = pd.read_csv(\"aapl.csv\")"
   ]
  },
  {
   "cell_type": "code",
   "execution_count": 65,
   "metadata": {},
   "outputs": [
    {
     "data": {
      "text/html": [
       "<div>\n",
       "<style scoped>\n",
       "    .dataframe tbody tr th:only-of-type {\n",
       "        vertical-align: middle;\n",
       "    }\n",
       "\n",
       "    .dataframe tbody tr th {\n",
       "        vertical-align: top;\n",
       "    }\n",
       "\n",
       "    .dataframe thead th {\n",
       "        text-align: right;\n",
       "    }\n",
       "</style>\n",
       "<table border=\"1\" class=\"dataframe\">\n",
       "  <thead>\n",
       "    <tr style=\"text-align: right;\">\n",
       "      <th></th>\n",
       "      <th>timestamp</th>\n",
       "      <th>time</th>\n",
       "      <th>last_price</th>\n",
       "    </tr>\n",
       "  </thead>\n",
       "  <tbody>\n",
       "    <tr>\n",
       "      <th>0</th>\n",
       "      <td>1617025815918</td>\n",
       "      <td>2021-03-29</td>\n",
       "      <td>122.2910</td>\n",
       "    </tr>\n",
       "    <tr>\n",
       "      <th>1</th>\n",
       "      <td>1617025814325</td>\n",
       "      <td>2021-03-29</td>\n",
       "      <td>122.2695</td>\n",
       "    </tr>\n",
       "    <tr>\n",
       "      <th>2</th>\n",
       "      <td>1617025814893</td>\n",
       "      <td>2021-03-29</td>\n",
       "      <td>122.2700</td>\n",
       "    </tr>\n",
       "    <tr>\n",
       "      <th>3</th>\n",
       "      <td>1617025815411</td>\n",
       "      <td>2021-03-29</td>\n",
       "      <td>122.3000</td>\n",
       "    </tr>\n",
       "    <tr>\n",
       "      <th>4</th>\n",
       "      <td>1617025816468</td>\n",
       "      <td>2021-03-29</td>\n",
       "      <td>122.2750</td>\n",
       "    </tr>\n",
       "    <tr>\n",
       "      <th>...</th>\n",
       "      <td>...</td>\n",
       "      <td>...</td>\n",
       "      <td>...</td>\n",
       "    </tr>\n",
       "    <tr>\n",
       "      <th>57364</th>\n",
       "      <td>1617307838351</td>\n",
       "      <td>2021-04-01</td>\n",
       "      <td>122.9102</td>\n",
       "    </tr>\n",
       "    <tr>\n",
       "      <th>57365</th>\n",
       "      <td>1617307838867</td>\n",
       "      <td>2021-04-01</td>\n",
       "      <td>122.9200</td>\n",
       "    </tr>\n",
       "    <tr>\n",
       "      <th>57366</th>\n",
       "      <td>1617307839402</td>\n",
       "      <td>2021-04-01</td>\n",
       "      <td>122.9180</td>\n",
       "    </tr>\n",
       "    <tr>\n",
       "      <th>57367</th>\n",
       "      <td>1617307834111</td>\n",
       "      <td>2021-04-01</td>\n",
       "      <td>122.8950</td>\n",
       "    </tr>\n",
       "    <tr>\n",
       "      <th>57368</th>\n",
       "      <td>1617307834657</td>\n",
       "      <td>2021-04-01</td>\n",
       "      <td>122.9000</td>\n",
       "    </tr>\n",
       "  </tbody>\n",
       "</table>\n",
       "<p>57369 rows × 3 columns</p>\n",
       "</div>"
      ],
      "text/plain": [
       "           timestamp        time  last_price\n",
       "0      1617025815918  2021-03-29    122.2910\n",
       "1      1617025814325  2021-03-29    122.2695\n",
       "2      1617025814893  2021-03-29    122.2700\n",
       "3      1617025815411  2021-03-29    122.3000\n",
       "4      1617025816468  2021-03-29    122.2750\n",
       "...              ...         ...         ...\n",
       "57364  1617307838351  2021-04-01    122.9102\n",
       "57365  1617307838867  2021-04-01    122.9200\n",
       "57366  1617307839402  2021-04-01    122.9180\n",
       "57367  1617307834111  2021-04-01    122.8950\n",
       "57368  1617307834657  2021-04-01    122.9000\n",
       "\n",
       "[57369 rows x 3 columns]"
      ]
     },
     "execution_count": 65,
     "metadata": {},
     "output_type": "execute_result"
    }
   ],
   "source": [
    "aapl"
   ]
  },
  {
   "cell_type": "code",
   "execution_count": 64,
   "metadata": {},
   "outputs": [],
   "source": [
    "aapl['time']=pd.to_datetime(aapl['time']).apply(lambda x: x.date())"
   ]
  },
  {
   "cell_type": "code",
   "execution_count": 66,
   "metadata": {},
   "outputs": [
    {
     "data": {
      "image/png": "[encoded data removed]",
      "text/plain": [
       "<Figure size 864x288 with 1 Axes>"
      ]
     },
     "metadata": {},
     "output_type": "display_data"
    }
   ],
   "source": [
    "sns.set(rc={'figure.figsize':(12,4)})\n",
    "ax = sns.lineplot(x='time',y='last_price', data = aapl, label='AAPL Closing Price', color='red')"
   ]
  },
  {
   "cell_type": "markdown",
   "metadata": {},
   "source": [
    "## Trying to calculate standard deviation in one go for couple of symbols"
   ]
  },
  {
   "cell_type": "code",
   "execution_count": 67,
   "metadata": {},
   "outputs": [],
   "source": [
    "SQL4= \"SELECT timestamp, last_price, stddev(last_price) \\\n",
    "        OVER (ORDER BY timestamp ASC ROWS 24 PRECEDING) \\\n",
    "        FROM stocksdata WHERE key in ('FB', 'GOOG','MSFT') ORDER BY key;\"\n"
   ]
  },
  {
   "cell_type": "code",
   "execution_count": 68,
   "metadata": {},
   "outputs": [],
   "source": [
    "CURSOR.execute(SQL4)\n",
    "result1 = CURSOR.fetchall()"
   ]
  },
  {
   "cell_type": "code",
   "execution_count": 69,
   "metadata": {},
   "outputs": [
    {
     "name": "stderr",
     "output_type": "stream",
     "text": [
      "IOPub data rate exceeded.\n",
      "The notebook server will temporarily stop sending output\n",
      "to the client in order to avoid crashing it.\n",
      "To change this limit, set the config variable\n",
      "`--NotebookApp.iopub_data_rate_limit`.\n",
      "\n",
      "Current values:\n",
      "NotebookApp.iopub_data_rate_limit=1000000.0 (bytes/sec)\n",
      "NotebookApp.rate_limit_window=3.0 (secs)\n",
      "\n"
     ]
    }
   ],
   "source": [
    "print(result1)"
   ]
  },
  {
   "cell_type": "markdown",
   "metadata": {},
   "source": [
    "## AAPL Average price"
   ]
  },
  {
   "cell_type": "code",
   "execution_count": 70,
   "metadata": {},
   "outputs": [],
   "source": [
    "stddev=aapl.std()"
   ]
  },
  {
   "cell_type": "code",
   "execution_count": 72,
   "metadata": {},
   "outputs": [
    {
     "name": "stdout",
     "output_type": "stream",
     "text": [
      "timestamp     9.604134e+07\n",
      "last_price    7.431754e-01\n",
      "dtype: float64\n"
     ]
    }
   ],
   "source": [
    "print(stddev)"
   ]
  },
  {
   "cell_type": "code",
   "execution_count": 77,
   "metadata": {},
   "outputs": [
    {
     "name": "stdout",
     "output_type": "stream",
     "text": [
      "Average AAPL price is:  122.64858287053984\n"
     ]
    }
   ],
   "source": [
    "print(\"Average AAPL price is: \", np.average(aapl['last_price']))"
   ]
  },
  {
   "cell_type": "markdown",
   "metadata": {},
   "source": [
    "## AAPL Mean price"
   ]
  },
  {
   "cell_type": "code",
   "execution_count": 80,
   "metadata": {},
   "outputs": [
    {
     "name": "stdout",
     "output_type": "stream",
     "text": [
      "Mean AAPL price is:  122.64858287053984\n"
     ]
    }
   ],
   "source": [
    "print(\"Mean AAPL price is: \", np.mean(aapl['last_price']))"
   ]
  },
  {
   "cell_type": "markdown",
   "metadata": {},
   "source": [
    "## AAPL Variance "
   ]
  },
  {
   "cell_type": "code",
   "execution_count": 78,
   "metadata": {},
   "outputs": [
    {
     "name": "stdout",
     "output_type": "stream",
     "text": [
      "Variance is :  0.5522999979622598\n"
     ]
    }
   ],
   "source": [
    "print(\"Variance is : \", np.var(aapl['last_price']))"
   ]
  },
  {
   "cell_type": "markdown",
   "metadata": {},
   "source": [
    "## AAPL Standard Deviation "
   ]
  },
  {
   "cell_type": "code",
   "execution_count": 79,
   "metadata": {},
   "outputs": [
    {
     "name": "stdout",
     "output_type": "stream",
     "text": [
      "Standard Deviation is :  0.7431688892588681\n"
     ]
    }
   ],
   "source": [
    "print(\"Standard Deviation is : \", np.std(aapl['last_price']))"
   ]
  },
  {
   "cell_type": "code",
   "execution_count": null,
   "metadata": {},
   "outputs": [],
   "source": []
  }
 ],
 "metadata": {
  "kernelspec": {
   "display_name": "Python 3",
   "language": "python",
   "name": "python3"
  },
  "language_info": {
   "codemirror_mode": {
    "name": "ipython",
    "version": 3
   },
   "file_extension": ".py",
   "mimetype": "text/x-python",
   "name": "python",
   "nbconvert_exporter": "python",
   "pygments_lexer": "ipython3",
   "version": "3.8.5"
  }
 },
 "nbformat": 4,
 "nbformat_minor": 4
}
